{
  "nbformat": 4,
  "nbformat_minor": 0,
  "metadata": {
    "colab": {
      "provenance": [],
      "authorship_tag": "ABX9TyNpwGlU4+iSzGxpEeA6aIEb",
      "include_colab_link": true
    },
    "kernelspec": {
      "name": "python3",
      "display_name": "Python 3"
    },
    "language_info": {
      "name": "python"
    }
  },
  "cells": [
    {
      "cell_type": "markdown",
      "metadata": {
        "id": "view-in-github",
        "colab_type": "text"
      },
      "source": [
        "<a href=\"https://colab.research.google.com/github/Chahak2003jain/Credit-Card-Fraud-Detection/blob/master/Credit_Card_Fraud_Detection.ipynb\" target=\"_parent\"><img src=\"https://colab.research.google.com/assets/colab-badge.svg\" alt=\"Open In Colab\"/></a>"
      ]
    },
    {
      "cell_type": "markdown",
      "source": [
        "**PROBLEM STATEMENT**"
      ],
      "metadata": {
        "id": "HHVkc9mkTSsM"
      }
    },
    {
      "cell_type": "markdown",
      "source": [
        "For many banks, retaining high profitable customers is the number one business goal. Banking fraud,however, poses a significant threat to this goal for different banks. In terms of substantial financial losses,trust and credibility, this is a concerning issue to both banks and customers alike.\n",
        "\n",
        "In the banking industry, credit card fraud detection using machine learning is not only a trend but a necessity for them to put proactive monitoring and fraud prevention mechanisms in place. Machine Learning is helping these institutions to reduce time-consuming manual reviews,costly chargebacks and fees as well as denials of legitimate transactions.\n",
        "\n",
        "In this project we will detect fraudulent credit card transactions with the help of Machine learning models. We will analyse customer-level data that has been collected and analysed during a research collaboration of Wordline and Machine Learning Group."
      ],
      "metadata": {
        "id": "E-HLEeihTgdB"
      }
    },
    {
      "cell_type": "markdown",
      "source": [
        "**Importing dependencies**"
      ],
      "metadata": {
        "id": "fNVf020EauM7"
      }
    },
    {
      "cell_type": "code",
      "source": [
        "#Importing the libraries\n",
        "import numpy as np\n",
        "import pandas as pd\n",
        "import time\n",
        "\n",
        "import matplotlib.pyplot as plt\n",
        "%matplotlib inline\n",
        "import seaborn as sns\n",
        "\n",
        "from scipy import stats\n",
        "from scipy.stats import"
      ],
      "metadata": {
        "id": "jKjvNlLJTfYV"
      },
      "execution_count": null,
      "outputs": []
    }
  ]
}